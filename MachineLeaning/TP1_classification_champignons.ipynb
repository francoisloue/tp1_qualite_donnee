{
  "cells": [
    {
      "cell_type": "markdown",
      "metadata": {
        "id": "AE6ckoL2d8zI"
      },
      "source": [
        "## Machine Learning TP1 : Reconnaissance de Champignon"
      ]
    },
    {
      "cell_type": "markdown",
      "metadata": {
        "id": "UH48GC-vd8zJ"
      },
      "source": [
        "### Import des librairies"
      ]
    },
    {
      "cell_type": "code",
      "execution_count": 12,
      "metadata": {
        "id": "A5cjSy4vd8zJ"
      },
      "outputs": [],
      "source": [
        "import pandas as pd\n",
        "import numpy as np\n",
        "import os\n",
        "from IPython.display import Image, display\n",
        "import random\n",
        "\n",
        "from sklearn import preprocessing\n",
        "\n",
        "from sklearn.metrics import accuracy_score\n",
        "from sklearn import tree\n",
        "from sklearn import ensemble\n",
        "from sklearn.tree import export_graphviz\n",
        "from sklearn import utils\n",
        "# pd.set_option('display.max_rows', None) # Afficher toutes les lignes des dataframes\n",
        "# pd.set_option('display.max_columns', None) # Afficher toutes les lignes des dataframes"
      ]
    },
    {
      "cell_type": "markdown",
      "metadata": {
        "id": "vo5toNLOd8zK"
      },
      "source": [
        "### 1. Preparation des données"
      ]
    },
    {
      "cell_type": "markdown",
      "metadata": {
        "id": "tddrd6T9d8zK"
      },
      "source": [
        "1.1 importer et afficher les données dans un DataFrame.\n",
        "\n",
        "Afficher le nombre de champignons toxiques ou non.\n",
        "\n",
        "Vérifier qu'il n'y as pas de valeurs nulles"
      ]
    },
    {
      "cell_type": "code",
      "execution_count": 4,
      "metadata": {
        "colab": {
          "base_uri": "https://localhost:8080/"
        },
        "id": "UCV19w4-d8zK",
        "outputId": "99f43162-6d8d-486a-e746-fd3fed225bb8"
      },
      "outputs": [
        {
          "output_type": "execute_result",
          "data": {
            "text/plain": [
              "(toxicite\n",
              " comestible    4208\n",
              " toxique       3916\n",
              " Name: count, dtype: int64,\n",
              " toxicite                   0\n",
              " surface-chapeau            0\n",
              " ecchymoses                 0\n",
              " attache-lamelles           0\n",
              " taille-lamelles            0\n",
              " forme-pied                 0\n",
              " surface-pied-sur-anneau    0\n",
              " couleur-pied-sur-anneau    0\n",
              " couleur-voile              0\n",
              " type-anneau                0\n",
              " population                 0\n",
              " dtype: int64)"
            ]
          },
          "metadata": {},
          "execution_count": 4
        }
      ],
      "source": [
        "# 1.1 import du fichier\n",
        "df = pd.read_csv(\"champignons.csv\")\n",
        "\n",
        "# 1.1 nombre de champignons toxiques et nombre de cellule vide\n",
        "toxicity_counts = df['toxicite'].value_counts()\n",
        "null_values = df.isnull().sum()\n",
        "\n",
        "toxicity_counts, null_values"
      ]
    },
    {
      "cell_type": "markdown",
      "metadata": {
        "id": "dzCU645-d8zK"
      },
      "source": [
        "1.2 Encoder les données avec une colonne 1/0 par valeur possible.Eviter de générer une matrice \"sparse\"\\\n",
        "Afficher la taille des données (lignes x colonnes) et les noms de colonnes générées.\\\n",
        "https://scikit-learn.org/stable/modules/generated/sklearn.preprocessing.OneHotEncoder.html#sklearn.preprocessing.OneHotEncoder"
      ]
    },
    {
      "cell_type": "code",
      "execution_count": 15,
      "metadata": {
        "colab": {
          "base_uri": "https://localhost:8080/"
        },
        "id": "E0Iehuhtd8zK",
        "outputId": "587fcb64-7b0b-448d-8728-7dac890a9185"
      },
      "outputs": [
        {
          "output_type": "execute_result",
          "data": {
            "text/plain": [
              "((8124, 42),\n",
              " ['toxicite_comestible',\n",
              "  'toxicite_toxique',\n",
              "  'surface-chapeau_fibreuse',\n",
              "  'surface-chapeau_lisse',\n",
              "  'surface-chapeau_rainurée',\n",
              "  'surface-chapeau_écaillée',\n",
              "  'ecchymoses_non',\n",
              "  'ecchymoses_oui',\n",
              "  'attache-lamelles_adhérent',\n",
              "  'attache-lamelles_libre'])"
            ]
          },
          "metadata": {},
          "execution_count": 15
        }
      ],
      "source": [
        "# 1.2\n",
        "encoder = preprocessing.OneHotEncoder(sparse_output=False)\n",
        "encoded_data = encoder.fit_transform(df)\n",
        "encoded_df = pd.DataFrame(encoded_data, columns=encoder.get_feature_names_out(df.columns))\n",
        "\n",
        "encoded_shape = encoded_df.shape\n",
        "encoded_columns = encoded_df.columns.tolist()\n",
        "\n",
        "encoded_shape, encoded_columns[:10]"
      ]
    },
    {
      "cell_type": "markdown",
      "metadata": {
        "id": "rQvJXF2Gd8zK"
      },
      "source": [
        "1.3 Créer un nouveau DataFrame avec les données et les noms de colonne (méthode get_feature_names_out() de OneHotEncoder). Mélanger les données. Afficher le résultat."
      ]
    },
    {
      "cell_type": "code",
      "execution_count": 16,
      "metadata": {
        "colab": {
          "base_uri": "https://localhost:8080/",
          "height": 273
        },
        "id": "tOYkrku5d8zK",
        "outputId": "96fb062f-00d0-411f-993d-72388a4415cd"
      },
      "outputs": [
        {
          "output_type": "execute_result",
          "data": {
            "text/plain": [
              "      toxicite_comestible  toxicite_toxique  surface-chapeau_fibreuse  \\\n",
              "1971                  1.0               0.0                       1.0   \n",
              "6654                  0.0               1.0                       0.0   \n",
              "5606                  0.0               1.0                       0.0   \n",
              "3332                  1.0               0.0                       0.0   \n",
              "6988                  0.0               1.0                       0.0   \n",
              "\n",
              "      surface-chapeau_lisse  surface-chapeau_rainurée  \\\n",
              "1971                    0.0                       0.0   \n",
              "6654                    1.0                       0.0   \n",
              "5606                    0.0                       0.0   \n",
              "3332                    0.0                       0.0   \n",
              "6988                    1.0                       0.0   \n",
              "\n",
              "      surface-chapeau_écaillée  ecchymoses_non  ecchymoses_oui  \\\n",
              "1971                       0.0             1.0             0.0   \n",
              "6654                       0.0             1.0             0.0   \n",
              "5606                       1.0             1.0             0.0   \n",
              "3332                       1.0             0.0             1.0   \n",
              "6988                       0.0             1.0             0.0   \n",
              "\n",
              "      attache-lamelles_adhérent  attache-lamelles_libre  ...  \\\n",
              "1971                        0.0                     1.0  ...   \n",
              "6654                        0.0                     1.0  ...   \n",
              "5606                        0.0                     1.0  ...   \n",
              "3332                        0.0                     1.0  ...   \n",
              "6988                        0.0                     1.0  ...   \n",
              "\n",
              "      type-anneau_fibreux  type-anneau_large  type-anneau_pendant  \\\n",
              "1971                  0.0                0.0                  0.0   \n",
              "6654                  0.0                0.0                  0.0   \n",
              "5606                  0.0                0.0                  0.0   \n",
              "3332                  0.0                0.0                  1.0   \n",
              "6988                  0.0                0.0                  0.0   \n",
              "\n",
              "      type-anneau_évasé  population_abondante  population_clairsemée  \\\n",
              "1971                1.0                   0.0                    0.0   \n",
              "6654                1.0                   0.0                    0.0   \n",
              "5606                1.0                   0.0                    0.0   \n",
              "3332                0.0                   0.0                    0.0   \n",
              "6988                1.0                   0.0                    0.0   \n",
              "\n",
              "      population_dispersée  population_nombreuse  population_solitaire  \\\n",
              "1971                   1.0                   0.0                   0.0   \n",
              "6654                   0.0                   0.0                   0.0   \n",
              "5606                   0.0                   0.0                   0.0   \n",
              "3332                   0.0                   0.0                   1.0   \n",
              "6988                   0.0                   0.0                   0.0   \n",
              "\n",
              "      population_variée  \n",
              "1971                0.0  \n",
              "6654                1.0  \n",
              "5606                1.0  \n",
              "3332                0.0  \n",
              "6988                1.0  \n",
              "\n",
              "[5 rows x 42 columns]"
            ],
            "text/html": [
              "\n",
              "  <div id=\"df-39b1edf0-eb85-4795-b95f-c31fecc2ea71\" class=\"colab-df-container\">\n",
              "    <div>\n",
              "<style scoped>\n",
              "    .dataframe tbody tr th:only-of-type {\n",
              "        vertical-align: middle;\n",
              "    }\n",
              "\n",
              "    .dataframe tbody tr th {\n",
              "        vertical-align: top;\n",
              "    }\n",
              "\n",
              "    .dataframe thead th {\n",
              "        text-align: right;\n",
              "    }\n",
              "</style>\n",
              "<table border=\"1\" class=\"dataframe\">\n",
              "  <thead>\n",
              "    <tr style=\"text-align: right;\">\n",
              "      <th></th>\n",
              "      <th>toxicite_comestible</th>\n",
              "      <th>toxicite_toxique</th>\n",
              "      <th>surface-chapeau_fibreuse</th>\n",
              "      <th>surface-chapeau_lisse</th>\n",
              "      <th>surface-chapeau_rainurée</th>\n",
              "      <th>surface-chapeau_écaillée</th>\n",
              "      <th>ecchymoses_non</th>\n",
              "      <th>ecchymoses_oui</th>\n",
              "      <th>attache-lamelles_adhérent</th>\n",
              "      <th>attache-lamelles_libre</th>\n",
              "      <th>...</th>\n",
              "      <th>type-anneau_fibreux</th>\n",
              "      <th>type-anneau_large</th>\n",
              "      <th>type-anneau_pendant</th>\n",
              "      <th>type-anneau_évasé</th>\n",
              "      <th>population_abondante</th>\n",
              "      <th>population_clairsemée</th>\n",
              "      <th>population_dispersée</th>\n",
              "      <th>population_nombreuse</th>\n",
              "      <th>population_solitaire</th>\n",
              "      <th>population_variée</th>\n",
              "    </tr>\n",
              "  </thead>\n",
              "  <tbody>\n",
              "    <tr>\n",
              "      <th>1971</th>\n",
              "      <td>1.0</td>\n",
              "      <td>0.0</td>\n",
              "      <td>1.0</td>\n",
              "      <td>0.0</td>\n",
              "      <td>0.0</td>\n",
              "      <td>0.0</td>\n",
              "      <td>1.0</td>\n",
              "      <td>0.0</td>\n",
              "      <td>0.0</td>\n",
              "      <td>1.0</td>\n",
              "      <td>...</td>\n",
              "      <td>0.0</td>\n",
              "      <td>0.0</td>\n",
              "      <td>0.0</td>\n",
              "      <td>1.0</td>\n",
              "      <td>0.0</td>\n",
              "      <td>0.0</td>\n",
              "      <td>1.0</td>\n",
              "      <td>0.0</td>\n",
              "      <td>0.0</td>\n",
              "      <td>0.0</td>\n",
              "    </tr>\n",
              "    <tr>\n",
              "      <th>6654</th>\n",
              "      <td>0.0</td>\n",
              "      <td>1.0</td>\n",
              "      <td>0.0</td>\n",
              "      <td>1.0</td>\n",
              "      <td>0.0</td>\n",
              "      <td>0.0</td>\n",
              "      <td>1.0</td>\n",
              "      <td>0.0</td>\n",
              "      <td>0.0</td>\n",
              "      <td>1.0</td>\n",
              "      <td>...</td>\n",
              "      <td>0.0</td>\n",
              "      <td>0.0</td>\n",
              "      <td>0.0</td>\n",
              "      <td>1.0</td>\n",
              "      <td>0.0</td>\n",
              "      <td>0.0</td>\n",
              "      <td>0.0</td>\n",
              "      <td>0.0</td>\n",
              "      <td>0.0</td>\n",
              "      <td>1.0</td>\n",
              "    </tr>\n",
              "    <tr>\n",
              "      <th>5606</th>\n",
              "      <td>0.0</td>\n",
              "      <td>1.0</td>\n",
              "      <td>0.0</td>\n",
              "      <td>0.0</td>\n",
              "      <td>0.0</td>\n",
              "      <td>1.0</td>\n",
              "      <td>1.0</td>\n",
              "      <td>0.0</td>\n",
              "      <td>0.0</td>\n",
              "      <td>1.0</td>\n",
              "      <td>...</td>\n",
              "      <td>0.0</td>\n",
              "      <td>0.0</td>\n",
              "      <td>0.0</td>\n",
              "      <td>1.0</td>\n",
              "      <td>0.0</td>\n",
              "      <td>0.0</td>\n",
              "      <td>0.0</td>\n",
              "      <td>0.0</td>\n",
              "      <td>0.0</td>\n",
              "      <td>1.0</td>\n",
              "    </tr>\n",
              "    <tr>\n",
              "      <th>3332</th>\n",
              "      <td>1.0</td>\n",
              "      <td>0.0</td>\n",
              "      <td>0.0</td>\n",
              "      <td>0.0</td>\n",
              "      <td>0.0</td>\n",
              "      <td>1.0</td>\n",
              "      <td>0.0</td>\n",
              "      <td>1.0</td>\n",
              "      <td>0.0</td>\n",
              "      <td>1.0</td>\n",
              "      <td>...</td>\n",
              "      <td>0.0</td>\n",
              "      <td>0.0</td>\n",
              "      <td>1.0</td>\n",
              "      <td>0.0</td>\n",
              "      <td>0.0</td>\n",
              "      <td>0.0</td>\n",
              "      <td>0.0</td>\n",
              "      <td>0.0</td>\n",
              "      <td>1.0</td>\n",
              "      <td>0.0</td>\n",
              "    </tr>\n",
              "    <tr>\n",
              "      <th>6988</th>\n",
              "      <td>0.0</td>\n",
              "      <td>1.0</td>\n",
              "      <td>0.0</td>\n",
              "      <td>1.0</td>\n",
              "      <td>0.0</td>\n",
              "      <td>0.0</td>\n",
              "      <td>1.0</td>\n",
              "      <td>0.0</td>\n",
              "      <td>0.0</td>\n",
              "      <td>1.0</td>\n",
              "      <td>...</td>\n",
              "      <td>0.0</td>\n",
              "      <td>0.0</td>\n",
              "      <td>0.0</td>\n",
              "      <td>1.0</td>\n",
              "      <td>0.0</td>\n",
              "      <td>0.0</td>\n",
              "      <td>0.0</td>\n",
              "      <td>0.0</td>\n",
              "      <td>0.0</td>\n",
              "      <td>1.0</td>\n",
              "    </tr>\n",
              "  </tbody>\n",
              "</table>\n",
              "<p>5 rows × 42 columns</p>\n",
              "</div>\n",
              "    <div class=\"colab-df-buttons\">\n",
              "\n",
              "  <div class=\"colab-df-container\">\n",
              "    <button class=\"colab-df-convert\" onclick=\"convertToInteractive('df-39b1edf0-eb85-4795-b95f-c31fecc2ea71')\"\n",
              "            title=\"Convert this dataframe to an interactive table.\"\n",
              "            style=\"display:none;\">\n",
              "\n",
              "  <svg xmlns=\"http://www.w3.org/2000/svg\" height=\"24px\" viewBox=\"0 -960 960 960\">\n",
              "    <path d=\"M120-120v-720h720v720H120Zm60-500h600v-160H180v160Zm220 220h160v-160H400v160Zm0 220h160v-160H400v160ZM180-400h160v-160H180v160Zm440 0h160v-160H620v160ZM180-180h160v-160H180v160Zm440 0h160v-160H620v160Z\"/>\n",
              "  </svg>\n",
              "    </button>\n",
              "\n",
              "  <style>\n",
              "    .colab-df-container {\n",
              "      display:flex;\n",
              "      gap: 12px;\n",
              "    }\n",
              "\n",
              "    .colab-df-convert {\n",
              "      background-color: #E8F0FE;\n",
              "      border: none;\n",
              "      border-radius: 50%;\n",
              "      cursor: pointer;\n",
              "      display: none;\n",
              "      fill: #1967D2;\n",
              "      height: 32px;\n",
              "      padding: 0 0 0 0;\n",
              "      width: 32px;\n",
              "    }\n",
              "\n",
              "    .colab-df-convert:hover {\n",
              "      background-color: #E2EBFA;\n",
              "      box-shadow: 0px 1px 2px rgba(60, 64, 67, 0.3), 0px 1px 3px 1px rgba(60, 64, 67, 0.15);\n",
              "      fill: #174EA6;\n",
              "    }\n",
              "\n",
              "    .colab-df-buttons div {\n",
              "      margin-bottom: 4px;\n",
              "    }\n",
              "\n",
              "    [theme=dark] .colab-df-convert {\n",
              "      background-color: #3B4455;\n",
              "      fill: #D2E3FC;\n",
              "    }\n",
              "\n",
              "    [theme=dark] .colab-df-convert:hover {\n",
              "      background-color: #434B5C;\n",
              "      box-shadow: 0px 1px 3px 1px rgba(0, 0, 0, 0.15);\n",
              "      filter: drop-shadow(0px 1px 2px rgba(0, 0, 0, 0.3));\n",
              "      fill: #FFFFFF;\n",
              "    }\n",
              "  </style>\n",
              "\n",
              "    <script>\n",
              "      const buttonEl =\n",
              "        document.querySelector('#df-39b1edf0-eb85-4795-b95f-c31fecc2ea71 button.colab-df-convert');\n",
              "      buttonEl.style.display =\n",
              "        google.colab.kernel.accessAllowed ? 'block' : 'none';\n",
              "\n",
              "      async function convertToInteractive(key) {\n",
              "        const element = document.querySelector('#df-39b1edf0-eb85-4795-b95f-c31fecc2ea71');\n",
              "        const dataTable =\n",
              "          await google.colab.kernel.invokeFunction('convertToInteractive',\n",
              "                                                    [key], {});\n",
              "        if (!dataTable) return;\n",
              "\n",
              "        const docLinkHtml = 'Like what you see? Visit the ' +\n",
              "          '<a target=\"_blank\" href=https://colab.research.google.com/notebooks/data_table.ipynb>data table notebook</a>'\n",
              "          + ' to learn more about interactive tables.';\n",
              "        element.innerHTML = '';\n",
              "        dataTable['output_type'] = 'display_data';\n",
              "        await google.colab.output.renderOutput(dataTable, element);\n",
              "        const docLink = document.createElement('div');\n",
              "        docLink.innerHTML = docLinkHtml;\n",
              "        element.appendChild(docLink);\n",
              "      }\n",
              "    </script>\n",
              "  </div>\n",
              "\n",
              "\n",
              "<div id=\"df-b4d42990-d466-42db-a99b-a203d9e0a8a0\">\n",
              "  <button class=\"colab-df-quickchart\" onclick=\"quickchart('df-b4d42990-d466-42db-a99b-a203d9e0a8a0')\"\n",
              "            title=\"Suggest charts\"\n",
              "            style=\"display:none;\">\n",
              "\n",
              "<svg xmlns=\"http://www.w3.org/2000/svg\" height=\"24px\"viewBox=\"0 0 24 24\"\n",
              "     width=\"24px\">\n",
              "    <g>\n",
              "        <path d=\"M19 3H5c-1.1 0-2 .9-2 2v14c0 1.1.9 2 2 2h14c1.1 0 2-.9 2-2V5c0-1.1-.9-2-2-2zM9 17H7v-7h2v7zm4 0h-2V7h2v10zm4 0h-2v-4h2v4z\"/>\n",
              "    </g>\n",
              "</svg>\n",
              "  </button>\n",
              "\n",
              "<style>\n",
              "  .colab-df-quickchart {\n",
              "      --bg-color: #E8F0FE;\n",
              "      --fill-color: #1967D2;\n",
              "      --hover-bg-color: #E2EBFA;\n",
              "      --hover-fill-color: #174EA6;\n",
              "      --disabled-fill-color: #AAA;\n",
              "      --disabled-bg-color: #DDD;\n",
              "  }\n",
              "\n",
              "  [theme=dark] .colab-df-quickchart {\n",
              "      --bg-color: #3B4455;\n",
              "      --fill-color: #D2E3FC;\n",
              "      --hover-bg-color: #434B5C;\n",
              "      --hover-fill-color: #FFFFFF;\n",
              "      --disabled-bg-color: #3B4455;\n",
              "      --disabled-fill-color: #666;\n",
              "  }\n",
              "\n",
              "  .colab-df-quickchart {\n",
              "    background-color: var(--bg-color);\n",
              "    border: none;\n",
              "    border-radius: 50%;\n",
              "    cursor: pointer;\n",
              "    display: none;\n",
              "    fill: var(--fill-color);\n",
              "    height: 32px;\n",
              "    padding: 0;\n",
              "    width: 32px;\n",
              "  }\n",
              "\n",
              "  .colab-df-quickchart:hover {\n",
              "    background-color: var(--hover-bg-color);\n",
              "    box-shadow: 0 1px 2px rgba(60, 64, 67, 0.3), 0 1px 3px 1px rgba(60, 64, 67, 0.15);\n",
              "    fill: var(--button-hover-fill-color);\n",
              "  }\n",
              "\n",
              "  .colab-df-quickchart-complete:disabled,\n",
              "  .colab-df-quickchart-complete:disabled:hover {\n",
              "    background-color: var(--disabled-bg-color);\n",
              "    fill: var(--disabled-fill-color);\n",
              "    box-shadow: none;\n",
              "  }\n",
              "\n",
              "  .colab-df-spinner {\n",
              "    border: 2px solid var(--fill-color);\n",
              "    border-color: transparent;\n",
              "    border-bottom-color: var(--fill-color);\n",
              "    animation:\n",
              "      spin 1s steps(1) infinite;\n",
              "  }\n",
              "\n",
              "  @keyframes spin {\n",
              "    0% {\n",
              "      border-color: transparent;\n",
              "      border-bottom-color: var(--fill-color);\n",
              "      border-left-color: var(--fill-color);\n",
              "    }\n",
              "    20% {\n",
              "      border-color: transparent;\n",
              "      border-left-color: var(--fill-color);\n",
              "      border-top-color: var(--fill-color);\n",
              "    }\n",
              "    30% {\n",
              "      border-color: transparent;\n",
              "      border-left-color: var(--fill-color);\n",
              "      border-top-color: var(--fill-color);\n",
              "      border-right-color: var(--fill-color);\n",
              "    }\n",
              "    40% {\n",
              "      border-color: transparent;\n",
              "      border-right-color: var(--fill-color);\n",
              "      border-top-color: var(--fill-color);\n",
              "    }\n",
              "    60% {\n",
              "      border-color: transparent;\n",
              "      border-right-color: var(--fill-color);\n",
              "    }\n",
              "    80% {\n",
              "      border-color: transparent;\n",
              "      border-right-color: var(--fill-color);\n",
              "      border-bottom-color: var(--fill-color);\n",
              "    }\n",
              "    90% {\n",
              "      border-color: transparent;\n",
              "      border-bottom-color: var(--fill-color);\n",
              "    }\n",
              "  }\n",
              "</style>\n",
              "\n",
              "  <script>\n",
              "    async function quickchart(key) {\n",
              "      const quickchartButtonEl =\n",
              "        document.querySelector('#' + key + ' button');\n",
              "      quickchartButtonEl.disabled = true;  // To prevent multiple clicks.\n",
              "      quickchartButtonEl.classList.add('colab-df-spinner');\n",
              "      try {\n",
              "        const charts = await google.colab.kernel.invokeFunction(\n",
              "            'suggestCharts', [key], {});\n",
              "      } catch (error) {\n",
              "        console.error('Error during call to suggestCharts:', error);\n",
              "      }\n",
              "      quickchartButtonEl.classList.remove('colab-df-spinner');\n",
              "      quickchartButtonEl.classList.add('colab-df-quickchart-complete');\n",
              "    }\n",
              "    (() => {\n",
              "      let quickchartButtonEl =\n",
              "        document.querySelector('#df-b4d42990-d466-42db-a99b-a203d9e0a8a0 button');\n",
              "      quickchartButtonEl.style.display =\n",
              "        google.colab.kernel.accessAllowed ? 'block' : 'none';\n",
              "    })();\n",
              "  </script>\n",
              "</div>\n",
              "\n",
              "    </div>\n",
              "  </div>\n"
            ],
            "application/vnd.google.colaboratory.intrinsic+json": {
              "type": "dataframe",
              "variable_name": "shuffled_df"
            }
          },
          "metadata": {},
          "execution_count": 16
        }
      ],
      "source": [
        "# 1.3\n",
        "full_encoded_df = encoded_df.copy()\n",
        "\n",
        "shuffled_df = utils.shuffle(full_encoded_df, random_state=42)\n",
        "\n",
        "shuffled_df.head()"
      ]
    },
    {
      "cell_type": "markdown",
      "metadata": {
        "id": "3I9MVqOAd8zK"
      },
      "source": [
        "1.4 Creer 4 jeux de données : train features et labels (70%) et dev features et labels (30%).\\\n",
        "Utiliser toxicite_toxique comme label. Ne pas garder de label (toxicite_toxique et toxicite_comestible) dans les features !"
      ]
    },
    {
      "cell_type": "code",
      "execution_count": null,
      "metadata": {
        "id": "mhR6Yku3d8zK"
      },
      "outputs": [],
      "source": []
    },
    {
      "cell_type": "markdown",
      "metadata": {
        "id": "wAKhh2Uvd8zK"
      },
      "source": [
        "## 2. Arbre de décision"
      ]
    },
    {
      "cell_type": "markdown",
      "metadata": {
        "id": "pyMjvayWd8zL"
      },
      "source": [
        "2.1 Entrainer un arbre de décision sur les données d'apprentissage. Afficher l'arbre obtenu en utilisant plot_tree."
      ]
    },
    {
      "cell_type": "code",
      "execution_count": null,
      "metadata": {
        "id": "Ht8HslL_d8zL"
      },
      "outputs": [],
      "source": [
        "import matplotlib.pyplot as plt"
      ]
    },
    {
      "cell_type": "markdown",
      "metadata": {
        "id": "GLUoOm6Md8zL"
      },
      "source": [
        "2.2 Afficher l'arbre obtenu en utilisant graphwiz"
      ]
    },
    {
      "cell_type": "code",
      "execution_count": null,
      "metadata": {
        "id": "xn-sjLdZd8zL"
      },
      "outputs": [],
      "source": []
    },
    {
      "cell_type": "markdown",
      "metadata": {
        "id": "zcVkBDXrd8zL"
      },
      "source": [
        "2.3 Mesurer la précision du modèle sur les données de dev"
      ]
    },
    {
      "cell_type": "code",
      "execution_count": null,
      "metadata": {
        "id": "vzrekaNsd8zL"
      },
      "outputs": [],
      "source": []
    },
    {
      "cell_type": "markdown",
      "metadata": {
        "id": "Db0-8037d8zL"
      },
      "source": [
        "## 3. Modèle de forêt"
      ]
    },
    {
      "cell_type": "markdown",
      "metadata": {
        "id": "vw7s8APqd8zL"
      },
      "source": [
        "3.1 Réalisez un algorithme de Random Forest sur les données. Utiliser 500 arbres et une profondeur de 6."
      ]
    },
    {
      "cell_type": "code",
      "execution_count": null,
      "metadata": {
        "id": "Frr63VJYd8zL"
      },
      "outputs": [],
      "source": []
    },
    {
      "cell_type": "markdown",
      "metadata": {
        "id": "9Jh-JNcUd8zL"
      },
      "source": [
        "3.2 Afficher trois arbres au hasard."
      ]
    },
    {
      "cell_type": "code",
      "execution_count": null,
      "metadata": {
        "id": "za-in_vZd8zL"
      },
      "outputs": [],
      "source": [
        "from random import randint\n"
      ]
    },
    {
      "cell_type": "markdown",
      "metadata": {
        "id": "zmh909Jwd8zL"
      },
      "source": [
        "3.3 Mesurer la précision du modèle Random Forest sur les données de dev"
      ]
    },
    {
      "cell_type": "code",
      "execution_count": null,
      "metadata": {
        "id": "tZ6cv21cd8zL"
      },
      "outputs": [],
      "source": []
    },
    {
      "cell_type": "markdown",
      "metadata": {
        "id": "D7AMWkjDd8zL"
      },
      "source": [
        "## 4. optimisation des paramètres"
      ]
    },
    {
      "cell_type": "markdown",
      "metadata": {
        "id": "CkWYomD-d8zL"
      },
      "source": [
        "4.1 chercher l'ensembles de données la meilleure combinaison sur max_depth/n_estimator.\n",
        "\n",
        "Afficher les paramètre du modèle et a précision obtenue.\n",
        "\n",
        "Réexécuter un apprentissage avec la meilleure combinaison.\n"
      ]
    },
    {
      "cell_type": "code",
      "execution_count": null,
      "metadata": {
        "id": "fGwwez3jd8zL"
      },
      "outputs": [],
      "source": [
        "from sklearn.model_selection import GridSearchCV\n"
      ]
    },
    {
      "cell_type": "markdown",
      "metadata": {
        "id": "bkeD29IKd8zL"
      },
      "source": [
        "4.2 Afficher les paramètres optimaux et la précisions obtenue sur les données dev"
      ]
    },
    {
      "cell_type": "code",
      "execution_count": null,
      "metadata": {
        "id": "92NG94Kdd8zL"
      },
      "outputs": [],
      "source": []
    },
    {
      "cell_type": "markdown",
      "metadata": {
        "id": "zR7A3oPcd8zL"
      },
      "source": [
        "4.3 Classer et Afficher les caractéristiques d'importance supérieure à 1%"
      ]
    },
    {
      "cell_type": "code",
      "execution_count": null,
      "metadata": {
        "id": "4ptZ_BlMd8zL"
      },
      "outputs": [],
      "source": []
    },
    {
      "cell_type": "markdown",
      "metadata": {
        "id": "TS2vtW5fd8zL"
      },
      "source": [
        "## 5. Stacking\n",
        "\n",
        "Essayer différents modèles d'estimateur final"
      ]
    },
    {
      "cell_type": "code",
      "execution_count": null,
      "metadata": {
        "id": "20tq7i4id8zL"
      },
      "outputs": [],
      "source": [
        "from sklearn.pipeline import make_pipeline\n",
        "from sklearn.preprocessing import StandardScaler\n",
        "from sklearn.svm import SVC\n",
        "from sklearn.linear_model import LogisticRegression\n",
        "from sklearn.naive_bayes import GaussianNB\n",
        "from sklearn.linear_model import Perceptron\n",
        "from sklearn.ensemble import StackingClassifier\n"
      ]
    },
    {
      "cell_type": "markdown",
      "metadata": {
        "id": "olf6bET0d8zM"
      },
      "source": [
        "## 6. Gradient Boosting"
      ]
    },
    {
      "cell_type": "markdown",
      "metadata": {
        "id": "Yh7c-owPd8zM"
      },
      "source": [
        "6. Exécuter un apprentissage de Gradient Boosting avec et sans \"Early Stopping\" sur le nombre d'estimateurs. Comparer avec le résultat sur les données dev."
      ]
    },
    {
      "cell_type": "code",
      "execution_count": null,
      "metadata": {
        "id": "1fVBL8e1d8zM"
      },
      "outputs": [],
      "source": []
    },
    {
      "cell_type": "markdown",
      "metadata": {
        "id": "9800vgrGd8zM"
      },
      "source": [
        "## 7. (Optionnel) Recommencer les execices précédents en utilisant les \"ordinal encoders\". Que remarquez-vous ?"
      ]
    }
  ],
  "metadata": {
    "kernelspec": {
      "display_name": "Python 3",
      "language": "python",
      "name": "python3"
    },
    "language_info": {
      "codemirror_mode": {
        "name": "ipython",
        "version": 3
      },
      "file_extension": ".py",
      "mimetype": "text/x-python",
      "name": "python",
      "nbconvert_exporter": "python",
      "pygments_lexer": "ipython3",
      "version": "3.12.4"
    },
    "orig_nbformat": 4,
    "colab": {
      "provenance": []
    }
  },
  "nbformat": 4,
  "nbformat_minor": 0
}